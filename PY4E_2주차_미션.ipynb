{
  "nbformat": 4,
  "nbformat_minor": 0,
  "metadata": {
    "colab": {
      "name": "PY4E 2주차 미션.ipynb",
      "private_outputs": true,
      "provenance": [],
      "collapsed_sections": [],
      "authorship_tag": "ABX9TyM7t1O1SBVgh6COBes19aOj",
      "include_colab_link": true
    },
    "kernelspec": {
      "name": "python3",
      "display_name": "Python 3"
    },
    "language_info": {
      "name": "python"
    }
  },
  "cells": [
    {
      "cell_type": "markdown",
      "metadata": {
        "id": "view-in-github",
        "colab_type": "text"
      },
      "source": [
        "<a href=\"https://colab.research.google.com/github/daeundawm/co/blob/main/PY4E_2%EC%A3%BC%EC%B0%A8_%EB%AF%B8%EC%85%98.ipynb\" target=\"_parent\"><img src=\"https://colab.research.google.com/assets/colab-badge.svg\" alt=\"Open In Colab\"/></a>"
      ]
    },
    {
      "cell_type": "markdown",
      "metadata": {
        "id": "9H2Qlmgy8ZBo"
      },
      "source": [
        "Q1. 컴퓨터와 함께하는 가위바위보 게임을 만들어봅시다!\n",
        "\n",
        "조건1 : 함수의 인자로는 나의 가위바위보 선택이 들어감\n",
        "          (0, 1 ,2 혹은 \"가위\", \"바위\", \"보\" 로 입력할 수 있습니다. - 총 6가지 방법으로 넣을 수 있음)\n",
        "\n",
        "조건2 : 누가 무엇을 냈고, 누가 승리 했는지 출력이 되어야 함"
      ]
    },
    {
      "cell_type": "markdown",
      "metadata": {
        "id": "MhxmRFNX82pu"
      },
      "source": [
        "import random\n",
        "# 0 ~ 2 숫자를 랜덤으로 뽑아내는 코드\n",
        "computer = random.randint(0, 2)"
      ]
    },
    {
      "cell_type": "code",
      "metadata": {
        "id": "pCbUFe808eyV"
      },
      "source": [
        "import random\n",
        "computer = random.randint(0,2)\n",
        "\n",
        "print('가위바위보 게임을 해봐요.')\n",
        "user = input('가위바위보! 유저님의 선택은? 가위(0), 바위(1), 보(2): ')\n",
        "\n",
        "\n",
        "if user == '0' or user =='가위':\n",
        "    if computer == 0:\n",
        "        print('나: 가위\\n컴퓨터: 가위\\n비겼어요!')\n",
        "    elif computer == 1:\n",
        "        print('나: 가위\\n컴퓨터: 바위\\n컴퓨터 승!')\n",
        "    elif computer == 2:\n",
        "        print('나: 가위\\n컴퓨터: 보\\n유저님 승!')\n",
        "\n",
        "if user == '1' or user =='바위':\n",
        "    if computer == 0:\n",
        "        print('나: 바위\\n컴퓨터: 가위\\n유저님 승!')\n",
        "    elif computer == 1:\n",
        "        print('나: 바위\\n컴퓨터: 바위\\n비겼어요!')\n",
        "    elif computer == 2:\n",
        "        print('나: 바위\\n컴퓨터: 보\\n컴퓨터 승!')\n",
        "\n",
        "if user == '2' or user =='보':\n",
        "    if computer == 0:\n",
        "        print('나: 보\\n컴퓨터: 가위\\n컴퓨터 승!')\n",
        "    elif computer == 1:\n",
        "        print('나: 보\\n컴퓨터: 바위\\n유저님 승!')\n",
        "    elif computer == 2:\n",
        "        print('나: 보\\n컴퓨터: 보\\n비겼어요!')\n",
        "\n"
      ],
      "execution_count": null,
      "outputs": []
    },
    {
      "cell_type": "markdown",
      "metadata": {
        "id": "bCFwkEQOAKIu"
      },
      "source": [
        "Q2. 월급을 입력하면 연봉을 계산해주는 계산기를 만들어 봅시다. 세전 연봉과 세후 연봉을 함께 출력하도록 해봅니다."
      ]
    },
    {
      "cell_type": "code",
      "metadata": {
        "id": "8JtoKJUSALGK"
      },
      "source": [
        "mth = input('월급이 어떻게 되시나요? 만원 단위로 써주세요! ex. 200 :')\n",
        "byr = 12 * float(mth)\n",
        "if byr <= 1200:\n",
        "    ayr = byr * 0.94\n",
        "elif byr <= 4600:\n",
        "    ayr = byr * 0.85\n",
        "elif byr <= 8800:\n",
        "    ayr = byr * 0.76\n",
        "elif byr <= 15000:\n",
        "    ayr = byr * 0.65\n",
        "elif byr <= 30000:\n",
        "    ayr = byr * 0.62\n",
        "elif byr <= 50000:\n",
        "    ayr = byr * 0.60\n",
        "else:\n",
        "    ayr = byr * 0.58\n",
        "\n",
        "print('세전 연봉:', byr, '만원')\n",
        "print('세후 연봉:', ayr, '만원')"
      ],
      "execution_count": null,
      "outputs": []
    },
    {
      "cell_type": "markdown",
      "metadata": {
        "id": "x79onk1sHKpN"
      },
      "source": [
        "Q3. 학생 이름과 점수를 입력하면 학점을 출력하는 학점 변환기를 만들어 봅시다.\n",
        "\n",
        "이름과 점수, 학점 모두 출력하도록 해봅니다."
      ]
    },
    {
      "cell_type": "code",
      "metadata": {
        "id": "gIph58mMHTmE"
      },
      "source": [
        "name = input('이름을 입력하세요.')\n",
        "score = float(input('점수를 입력하세요. 단, 숫자만 써주세요.'))\n",
        "\n",
        "def grader(name, score):                #함수 정의\n",
        "    if score <= 59:\n",
        "        grade = 'F'\n",
        "    elif score <= 64:                   #if문에서 elif로 넘어가려면 if문이 false라는 거니까 60<= 따위의 의미 없는 조건을 적을 필요는 없음\n",
        "        grade = 'D'\n",
        "    elif score <= 69:\n",
        "        grade = 'D+'\n",
        "    elif score <= 74:\n",
        "        grade = 'C'\n",
        "    elif score <= 79:\n",
        "        grade = 'C+'\n",
        "    elif score <= 84:\n",
        "        grade = 'B'\n",
        "    elif score <= 89:\n",
        "        grade = 'B+'\n",
        "    elif score <= 94:\n",
        "        grade = 'A'\n",
        "    elif score <= 100:\n",
        "        grade = 'A+'\n",
        "    print('이름:', name, '\\n점수:', score, '\\n학점:', grade)\n",
        "\n",
        "grader(name, score)                     #앞서 정의한 함수 호출\n"
      ],
      "execution_count": null,
      "outputs": []
    },
    {
      "cell_type": "markdown",
      "metadata": {
        "id": "fdVK8qPiWQ_6"
      },
      "source": [
        "Q4. 나이와 현금 또는 카드를 입력하면 버스 요금이 출력되는 버스 요금 계산기를 만들어봅시다. \n",
        "\n",
        " \n",
        "\n",
        "   📑아래의 요금표를 토대로 만들어주세요"
      ]
    },
    {
      "cell_type": "code",
      "metadata": {
        "id": "-29OLJosWTre"
      },
      "source": [
        "age = int(input('나이를 입력하세요. 단, 숫자만 써주세요. : '))\n",
        "pay = input('지불 방식을 선택하세요. (카드 혹은 현금) : ')\n",
        "\n",
        "def bus_fare(age, pay):\n",
        "    if age < 8 or age >= 75:\n",
        "        charge = 0\n",
        "    elif 8 <= age < 14:\n",
        "        charge = 450   \n",
        "    elif 14 <= age < 20 and pay == '카드':\n",
        "        charge = 720\n",
        "    elif 14<= age < 20 and pay == '현금':\n",
        "        charge = 1000\n",
        "    elif age >= 20 and pay == '카드':\n",
        "        charge = 1200\n",
        "    elif age >= 20 and pay == '현금':\n",
        "        charge = 1300\n",
        "    print('나이:', age, '세', '\\n지불유형:', pay, '\\n요금:', charge, '원')\n",
        "\n",
        "bus_fare(age, pay)\n"
      ],
      "execution_count": null,
      "outputs": []
    }
  ]
}